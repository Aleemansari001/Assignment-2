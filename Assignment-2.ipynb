{
 "cells": [
  {
   "cell_type": "markdown",
   "id": "bcc78f20-0e33-4712-a119-21dc39e464c7",
   "metadata": {},
   "source": [
    "Q.1"
   ]
  },
  {
   "cell_type": "markdown",
   "id": "8f5325f8-e186-4c1f-930b-1b799056467a",
   "metadata": {},
   "source": [
    "Comments in Python start with the # symbol."
   ]
  },
  {
   "cell_type": "markdown",
   "id": "0d00fef1-e049-4ebf-8e05-07d43b2aac7c",
   "metadata": {},
   "source": [
    "There are mainly two types of comments as follows:\n",
    "1. Line comment\n",
    "2. Multi Line comment"
   ]
  },
  {
   "cell_type": "markdown",
   "id": "74d8d34f-a261-4610-96ca-cedb2af8ace6",
   "metadata": {},
   "source": [
    "Q.2"
   ]
  },
  {
   "cell_type": "markdown",
   "id": "d01c8b42-a9a5-4e38-9330-58a601e56a33",
   "metadata": {},
   "source": [
    "Variables are nothing but reserved memory locations to store certain values. This means that when you create a variable you reserve some space in memory."
   ]
  },
  {
   "cell_type": "markdown",
   "id": "134835ae-6a63-45ec-8279-efa1850e7019",
   "metadata": {},
   "source": [
    "Example..\n",
    "a = \"Pwskills\""
   ]
  },
  {
   "cell_type": "markdown",
   "id": "7b1ddd3c-7518-4a0e-9ef1-b54f2dd29e79",
   "metadata": {},
   "source": [
    "Q.3"
   ]
  },
  {
   "cell_type": "code",
   "execution_count": 9,
   "id": "1e92fe76-cc92-412f-b83f-f6ad11aaf463",
   "metadata": {},
   "outputs": [],
   "source": [
    "num = int(\"10\")"
   ]
  },
  {
   "cell_type": "code",
   "execution_count": 10,
   "id": "22a40500-feff-410b-955b-5de6e56260c2",
   "metadata": {},
   "outputs": [
    {
     "data": {
      "text/plain": [
       "10"
      ]
     },
     "execution_count": 10,
     "metadata": {},
     "output_type": "execute_result"
    }
   ],
   "source": [
    "num"
   ]
  },
  {
   "cell_type": "markdown",
   "id": "eeee9301-f713-4831-872f-4340f59d02fe",
   "metadata": {},
   "source": [
    "This is conversion of string to integer"
   ]
  },
  {
   "cell_type": "markdown",
   "id": "1f290832-ec36-44c9-92df-7495e9c340a6",
   "metadata": {
    "tags": []
   },
   "source": [
    "Q.4"
   ]
  },
  {
   "cell_type": "markdown",
   "id": "88de2cd6-8076-4012-8d38-3e85a07d8cf3",
   "metadata": {},
   "source": [
    "1. First of all creat a folder on desktop. After that creat a notepad and write the code or programme and save it.\n",
    "2. Now open command and write cd desktop\n",
    "3. after that write folder name and python + file name and hit the enter\n",
    "4. now we can see our code and programme"
   ]
  },
  {
   "cell_type": "markdown",
   "id": "d4c411dd-7250-41b7-b038-c0f9dd1e0d5a",
   "metadata": {},
   "source": [
    "Q.5"
   ]
  },
  {
   "cell_type": "code",
   "execution_count": 21,
   "id": "0265d064-c30a-49a3-bd35-41bde67fb349",
   "metadata": {},
   "outputs": [],
   "source": [
    "my_list = [1,2,3,4,5]\n",
    "sub_list = []\n",
    "for i in my_list:\n",
    "    if i ==2 or i ==3:\n",
    "        sub_list.append(i) "
   ]
  },
  {
   "cell_type": "code",
   "execution_count": 24,
   "id": "d0c7a1fc-2a20-46c7-8faa-070ca3f76f37",
   "metadata": {},
   "outputs": [
    {
     "data": {
      "text/plain": [
       "[2, 3]"
      ]
     },
     "execution_count": 24,
     "metadata": {},
     "output_type": "execute_result"
    }
   ],
   "source": [
    "sub_list"
   ]
  },
  {
   "cell_type": "markdown",
   "id": "7e7f6ed7-171a-428c-b2a1-253ae53119af",
   "metadata": {},
   "source": [
    "Q.6"
   ]
  },
  {
   "cell_type": "markdown",
   "id": "3cf5f744-a140-4667-b940-1d7989626210",
   "metadata": {},
   "source": [
    "1. Complex numbers are the numbers that are expressed in the form of a+ib where, a,b are real numbers and 'i' is an imaginary number called “iota”\n",
    "2. but in python... we denote \"i\" through \"j\" \n",
    "3. now can see a example"
   ]
  },
  {
   "cell_type": "code",
   "execution_count": null,
   "id": "d5eafa01-8639-4a54-ab4e-f1a8da41252a",
   "metadata": {},
   "outputs": [],
   "source": [
    "a = 5j"
   ]
  },
  {
   "cell_type": "code",
   "execution_count": 29,
   "id": "b2273e8f-d043-4d22-8082-1124945cbe4c",
   "metadata": {},
   "outputs": [
    {
     "data": {
      "text/plain": [
       "complex"
      ]
     },
     "execution_count": 29,
     "metadata": {},
     "output_type": "execute_result"
    }
   ],
   "source": [
    "type(a)"
   ]
  },
  {
   "cell_type": "markdown",
   "id": "65ae7625-519b-4444-8c2c-89626fbbc808",
   "metadata": {},
   "source": [
    "Q.7"
   ]
  },
  {
   "cell_type": "code",
   "execution_count": 30,
   "id": "c9a877e6-38ca-41b8-84c4-6c3548d51e9b",
   "metadata": {},
   "outputs": [],
   "source": [
    "age = 25"
   ]
  },
  {
   "cell_type": "markdown",
   "id": "3a56c24f-040a-4da6-a4cc-f50a3ab2bec1",
   "metadata": {},
   "source": [
    "Q.8"
   ]
  },
  {
   "cell_type": "code",
   "execution_count": 31,
   "id": "6ff49585-ca9e-4ab8-96ae-311bfa82f182",
   "metadata": {},
   "outputs": [],
   "source": [
    "price = 9.99"
   ]
  },
  {
   "cell_type": "code",
   "execution_count": 32,
   "id": "4054156f-f761-4355-ba0c-03744f44b4a2",
   "metadata": {},
   "outputs": [
    {
     "data": {
      "text/plain": [
       "float"
      ]
     },
     "execution_count": 32,
     "metadata": {},
     "output_type": "execute_result"
    }
   ],
   "source": [
    "type(price)"
   ]
  },
  {
   "cell_type": "markdown",
   "id": "b6464d49-bcb3-486d-959e-f2434c5d1c74",
   "metadata": {},
   "source": [
    "Q.9"
   ]
  },
  {
   "cell_type": "code",
   "execution_count": 11,
   "id": "eb7fd82f-7d8b-4797-b2f3-b03c3021cde6",
   "metadata": {},
   "outputs": [],
   "source": [
    "name = \"Abdul Aleem Ansari\""
   ]
  },
  {
   "cell_type": "code",
   "execution_count": 12,
   "id": "d282097c-d055-4105-9c3e-0dd2661bdec7",
   "metadata": {},
   "outputs": [
    {
     "name": "stdout",
     "output_type": "stream",
     "text": [
      "Abdul Aleem Ansari\n"
     ]
    }
   ],
   "source": [
    "print(name)"
   ]
  },
  {
   "cell_type": "markdown",
   "id": "acbcb724-e6fe-495c-b83e-4e0ac952f89b",
   "metadata": {},
   "source": [
    "Q.10"
   ]
  },
  {
   "cell_type": "code",
   "execution_count": 4,
   "id": "8180d720-9336-46c7-9cc5-92b1d9d19dab",
   "metadata": {},
   "outputs": [],
   "source": [
    "string =\"Hello, World!\""
   ]
  },
  {
   "cell_type": "code",
   "execution_count": 5,
   "id": "f9d58fd0-5dc5-4a40-8ee2-81d217ada77d",
   "metadata": {},
   "outputs": [
    {
     "name": "stdout",
     "output_type": "stream",
     "text": [
      "World\n"
     ]
    }
   ],
   "source": [
    "substring = string[7:12]\n",
    "print(substring)"
   ]
  },
  {
   "cell_type": "markdown",
   "id": "3b3ff674-f87e-4239-8252-594084861773",
   "metadata": {},
   "source": [
    "Q.11"
   ]
  },
  {
   "cell_type": "code",
   "execution_count": null,
   "id": "bc6b24ec-bbb1-48ec-8a2b-f375d15e38d6",
   "metadata": {},
   "outputs": [],
   "source": [
    "is_student = True  # Change to False if you are not currently a student"
   ]
  }
 ],
 "metadata": {
  "kernelspec": {
   "display_name": "Python 3 (ipykernel)",
   "language": "python",
   "name": "python3"
  },
  "language_info": {
   "codemirror_mode": {
    "name": "ipython",
    "version": 3
   },
   "file_extension": ".py",
   "mimetype": "text/x-python",
   "name": "python",
   "nbconvert_exporter": "python",
   "pygments_lexer": "ipython3",
   "version": "3.10.8"
  }
 },
 "nbformat": 4,
 "nbformat_minor": 5
}
